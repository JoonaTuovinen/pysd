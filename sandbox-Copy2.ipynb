{
 "cells": [
  {
   "cell_type": "markdown",
   "metadata": {},
   "source": [
    "# Sandbox\n",
    "For playing around during development."
   ]
  },
  {
   "cell_type": "code",
   "execution_count": 1,
   "metadata": {
    "collapsed": false
   },
   "outputs": [
    {
     "name": "stdout",
     "output_type": "stream",
     "text": [
      "Populating the interactive namespace from numpy and matplotlib\n",
      "0.3.2\n",
      "pysd/__init__.pyc\n"
     ]
    }
   ],
   "source": [
    "%pylab inline\n",
    "import pysd\n",
    "print pysd.__version__\n",
    "print pysd.__file__\n",
    "import pandas as pd"
   ]
  },
  {
   "cell_type": "markdown",
   "metadata": {},
   "source": [
    "# Testing various subscript Options\n"
   ]
  },
  {
   "cell_type": "code",
   "execution_count": 26,
   "metadata": {
    "collapsed": true
   },
   "outputs": [],
   "source": [
    "from __future__ import division \n",
    "import numpy as np \n",
    "from pysd import functions\n",
    "from scipy.integrate import odeint\n",
    "import itertools"
   ]
  },
  {
   "cell_type": "markdown",
   "metadata": {},
   "source": [
    "### option 1: unnamed array"
   ]
  },
  {
   "cell_type": "code",
   "execution_count": 27,
   "metadata": {
    "collapsed": true
   },
   "outputs": [],
   "source": [
    "class MinModel(object):\n",
    "    ##########  boilerplate stuff from the existing pysd #########\n",
    "    def __init__(self):\n",
    "        self._stocknames = [name[:-5] for name in dir(self) if name[-5:] == '_init']\n",
    "        self._stocknames.sort() #inplace\n",
    "        self._dfuncs = [getattr(self, 'd%s_dt'%name) for name in self._stocknames]\n",
    "        self.state = dict(zip(self._stocknames, [None]*len(self._stocknames)))\n",
    "        self.reset_state()\n",
    "        self.functions = functions.Functions(self)\n",
    "\n",
    "    def reset_state(self):\n",
    "        \"\"\"Sets the model state to the state described in the model file. \"\"\"\n",
    "        self.t = self.initial_time() #set the initial time\n",
    "        retry_flag = False\n",
    "        for key in self.state.keys():\n",
    "            try:\n",
    "                self.state[key] = eval('self.'+key+'_init()') #set the initial state\n",
    "            except TypeError:\n",
    "                retry_flag = True\n",
    "        if retry_flag:\n",
    "            self.reset_state() #potential for infinite loop!\n",
    "\n",
    "    ########### Stuff we have to modify to make subscripts work #########\n",
    "    def d_dt(self, state_vector, t):\n",
    "        \"\"\"The primary purpose of this function is to interact with the integrator.\n",
    "        It takes a state vector, sets the state of the system based on that vector,\n",
    "        and returns a derivative of the state vector\n",
    "        \"\"\"        \n",
    "        self.set_state(state_vector)\n",
    "        self.t = t\n",
    "        \n",
    "        derivative_vector = []\n",
    "        for func in self._dfuncs:\n",
    "            derivative_vector += list(func())\n",
    "            \n",
    "        return derivative_vector\n",
    "\n",
    "    def set_state(self, state_vector):\n",
    "        i = 0\n",
    "        for key in self._stocknames:\n",
    "            if isinstance(self.state[key], np.ndarray):\n",
    "                size = self.state[key].size\n",
    "                elements = state_vector[i:i+size]\n",
    "                shape = self.state[key].shape\n",
    "                self.state[key] = np.array(elements).reshape(shape)\n",
    "                i += size\n",
    "            else:\n",
    "                self.state[key] = state_vector[i]\n",
    "                i += 1\n",
    "\n",
    "        \n",
    "    def get_state(self):\n",
    "        #if we keep this, we should make it fully a list comprehension\n",
    "        state_vector = []\n",
    "        for item in [self.state[key] for key in self._stocknames]:\n",
    "            if isinstance(item, np.ndarray):\n",
    "                state_vector += list(item.flatten())\n",
    "            else:\n",
    "                state_vector += list(item)\n",
    "        return state_vector\n",
    "    \n",
    "    \n",
    "    ######### model specific components (that go in the model file)\n",
    "    suba_list = ['suba1', 'suba2', 'suba3']\n",
    "    subb_list = ['suba2', 'subb2']\n",
    "    suba_index = dict(zip(suba_list, range(len(suba_list))))\n",
    "    subb_index = dict(zip(subb_list, range(len(subb_list))))\n",
    "    \n",
    "    def stock(self, suba, subb):\n",
    "        return self.state['stock'][self.suba_index[suba]][self.subb_index[subb]] \n",
    "    \n",
    "    def stock_init(self):\n",
    "        return np.array([[1,1],[1,1],[1,1]])\n",
    "    \n",
    "    def dstock_dt(self):\n",
    "        return [self.flow(suba, subb) for suba, subb in itertools.product(self.suba_list, self.subb_list)]\n",
    "    \n",
    "    def constant(self, suba, subb):\n",
    "        return self.constant.values[self.suba_index[suba]][self.subb_index[subb]]\n",
    "    constant.values = np.array([[1,2],[3,4],[5,6]])\n",
    "    \n",
    "    def flow(self, suba, subb):\n",
    "        return self.constant(suba, subb) * self.stock(suba, subb)\n",
    "    \n",
    "    def initial_time(self):\n",
    "        return 0"
   ]
  },
  {
   "cell_type": "code",
   "execution_count": 28,
   "metadata": {
    "collapsed": true
   },
   "outputs": [],
   "source": [
    "a = MinModel()"
   ]
  },
  {
   "cell_type": "code",
   "execution_count": 29,
   "metadata": {
    "collapsed": false
   },
   "outputs": [
    {
     "name": "stdout",
     "output_type": "stream",
     "text": [
      "100 loops, best of 3: 16.4 ms per loop\n"
     ]
    }
   ],
   "source": [
    "%%timeit\n",
    "a.reset_state()\n",
    "odeint(a.d_dt, a.get_state(), range(10))"
   ]
  },
  {
   "cell_type": "code",
   "execution_count": 34,
   "metadata": {
    "collapsed": false
   },
   "outputs": [
    {
     "name": "stdout",
     "output_type": "stream",
     "text": [
      " "
     ]
    }
   ],
   "source": [
    "%%prun\n",
    "odeint(a.d_dt, a.get_state(), range(10))"
   ]
  },
  {
   "cell_type": "markdown",
   "metadata": {},
   "source": [
    "### option 2: xray's `DataArray`"
   ]
  },
  {
   "cell_type": "code",
   "execution_count": 30,
   "metadata": {
    "collapsed": true
   },
   "outputs": [],
   "source": [
    "from xray import DataArray\n",
    "\n",
    "class xMinModel(object):\n",
    "    ##########  boilerplate stuff from the existing pysd #########\n",
    "    def __init__(self):\n",
    "        self._stocknames = [name[:-5] for name in dir(self) if name[-5:] == '_init']\n",
    "        self._stocknames.sort() #inplace\n",
    "        self._dfuncs = [getattr(self, 'd%s_dt'%name) for name in self._stocknames]\n",
    "        self.state = dict(zip(self._stocknames, [None]*len(self._stocknames)))\n",
    "        self.reset_state()\n",
    "        self.functions = functions.Functions(self)\n",
    "\n",
    "    def reset_state(self):\n",
    "        \"\"\"Sets the model state to the state described in the model file. \"\"\"\n",
    "        self.t = self.initial_time() #set the initial time\n",
    "        retry_flag = False\n",
    "        for key in self.state.keys():\n",
    "            try:\n",
    "                self.state[key] = eval('self.'+key+'_init()') #set the initial state\n",
    "            except TypeError:\n",
    "                retry_flag = True\n",
    "        if retry_flag:\n",
    "            self.reset_state() #potential for infinite loop!\n",
    "\n",
    "    ########### Stuff we have to modify to make subscripts work #########\n",
    "    def d_dt(self, state_vector, t):\n",
    "        \"\"\"The primary purpose of this function is to interact with the integrator.\n",
    "        It takes a state vector, sets the state of the system based on that vector,\n",
    "        and returns a derivative of the state vector\n",
    "        \"\"\"        \n",
    "        self.set_state(state_vector)\n",
    "        self.t = t\n",
    "        \n",
    "        derivative_vector = []\n",
    "        for func in self._dfuncs:\n",
    "            derivative_vector += list(func())\n",
    "            \n",
    "        return derivative_vector\n",
    "\n",
    "    def set_state(self, state_vector):\n",
    "        i = 0\n",
    "        for key in self._stocknames:\n",
    "            if isinstance(self.state[key], DataArray):\n",
    "                shape = self.state[key].shape\n",
    "                size = self.state[key].size\n",
    "                self.state[key].loc[:,:] = np.array(state_vector[i:i+size]).reshape(shape)\n",
    "                i += size\n",
    "            else:\n",
    "                self.state[key] = state_vector[i]\n",
    "                i += 1\n",
    "        \n",
    "    def get_state(self):\n",
    "        #if we keep this, we should make it fully a list comprehension\n",
    "        state_vector = []\n",
    "        for item in [self.state[key] for key in self._stocknames]:\n",
    "            if isinstance(item, DataArray):\n",
    "                state_vector += list(item.values.flatten())\n",
    "            else:\n",
    "                state_vector += list(item)\n",
    "        return state_vector\n",
    "    \n",
    "    \n",
    "    ######### model specific components (that go in the model file)\n",
    "    dim_dict = {'suba': ['subb1', 'subb2'],\n",
    "                'subb': ['suba1', 'suba2', 'suba3']}\n",
    "    \n",
    "    def stock(self, suba, subb):\n",
    "        return self.state['stock'].loc[suba, subb].values\n",
    "    \n",
    "    def stock_init(self):\n",
    "        return DataArray([[1,1],[1,1],[1,1]], self.dim_dict)\n",
    "    \n",
    "    def dstock_dt(self):\n",
    "        return [self.flow(suba, subb) for suba, subb in itertools.product(*self.dim_dict.values())]\n",
    "    \n",
    "    def constant(self, suba, subb):\n",
    "        #values = DataArray([[1,2],[3,4],[5,6]], self.dim_dict)\n",
    "        return self.constant.values.loc[suba, subb].values\n",
    "    constant.values = DataArray([[1,2],[3,4],[5,6]], dim_dict)\n",
    "    \n",
    "    def flow(self, suba, subb):\n",
    "        return self.constant(suba, subb) * self.stock(suba, subb)\n",
    "    \n",
    "    def initial_time(self):\n",
    "        return 0"
   ]
  },
  {
   "cell_type": "code",
   "execution_count": 32,
   "metadata": {
    "collapsed": false
   },
   "outputs": [],
   "source": [
    "a = xMinModel()"
   ]
  },
  {
   "cell_type": "code",
   "execution_count": 33,
   "metadata": {
    "collapsed": false
   },
   "outputs": [
    {
     "name": "stdout",
     "output_type": "stream",
     "text": [
      "Excess work done on this call (perhaps wrong Dfun type).\n",
      "Run with full_output = 1 to get quantitative information.\n",
      "Excess work done on this call (perhaps wrong Dfun type).\n",
      "Run with full_output = 1 to get quantitative information.\n",
      "Excess work done on this call (perhaps wrong Dfun type).\n",
      "Run with full_output = 1 to get quantitative information.\n",
      "Excess work done on this call (perhaps wrong Dfun type).\n",
      "Run with full_output = 1 to get quantitative information.\n",
      "1 loops, best of 3: 3.41 s per loop\n"
     ]
    }
   ],
   "source": [
    "%%timeit\n",
    "a.reset_state()\n",
    "odeint(a.d_dt, a.get_state(), range(10))"
   ]
  },
  {
   "cell_type": "code",
   "execution_count": 26,
   "metadata": {
    "collapsed": false
   },
   "outputs": [
    {
     "name": "stdout",
     "output_type": "stream",
     "text": [
      "Excess work done on this call (perhaps wrong Dfun type).\n",
      "Run with full_output = 1 to get quantitative information.\n",
      " "
     ]
    }
   ],
   "source": [
    "%%prun\n",
    "odeint(a.d_dt, a.get_state(), range(10))"
   ]
  },
  {
   "cell_type": "markdown",
   "metadata": {},
   "source": [
    "# Option 3\n",
    "\n",
    "Instead of calling the functions each time for each value of the subscript, can we call a function once, and get all of the values? Then we're doing array mathematics instead of a bunch of one-off multiplication.\n",
    "\n",
    "This is nice, and faster, but i'm not sure how we would scale it to deal with elements with different functions."
   ]
  },
  {
   "cell_type": "code",
   "execution_count": 34,
   "metadata": {
    "collapsed": true
   },
   "outputs": [],
   "source": [
    "class fMinModel(object):\n",
    "    ##########  boilerplate stuff from the existing pysd #########\n",
    "    def __init__(self):\n",
    "        self._stocknames = [name[:-5] for name in dir(self) if name[-5:] == '_init']\n",
    "        self._stocknames.sort() #inplace\n",
    "        self._dfuncs = [getattr(self, 'd%s_dt'%name) for name in self._stocknames]\n",
    "        self.state = dict(zip(self._stocknames, [None]*len(self._stocknames)))\n",
    "        self.reset_state()\n",
    "        self.functions = functions.Functions(self)\n",
    "\n",
    "    def reset_state(self):\n",
    "        \"\"\"Sets the model state to the state described in the model file. \"\"\"\n",
    "        self.t = self.initial_time() #set the initial time\n",
    "        retry_flag = False\n",
    "        for key in self.state.keys():\n",
    "            try:\n",
    "                self.state[key] = eval('self.'+key+'_init()') #set the initial state\n",
    "            except TypeError:\n",
    "                retry_flag = True\n",
    "        if retry_flag:\n",
    "            self.reset_state() #potential for infinite loop!\n",
    "\n",
    "    ########### Stuff we have to modify to make subscripts work #########\n",
    "    def d_dt(self, state_vector, t):\n",
    "        \"\"\"The primary purpose of this function is to interact with the integrator.\n",
    "        It takes a state vector, sets the state of the system based on that vector,\n",
    "        and returns a derivative of the state vector\n",
    "        \"\"\"        \n",
    "        self.set_state(state_vector)\n",
    "        self.t = t\n",
    "        \n",
    "        derivative_vector = []\n",
    "        for func in self._dfuncs:\n",
    "            res = func()\n",
    "            if isinstance(res, np.ndarray):\n",
    "                res = res.flatten()\n",
    "            derivative_vector += list(res)\n",
    "            \n",
    "        return derivative_vector\n",
    "\n",
    "    def set_state(self, state_vector):\n",
    "        i = 0\n",
    "        for key in self._stocknames:\n",
    "            \n",
    "            if isinstance(self.state[key], np.ndarray):\n",
    "                size = self.state[key].size\n",
    "                elements = state_vector[i:i+size]\n",
    "                shape = self.state[key].shape\n",
    "                self.state[key] = np.array(elements).reshape(shape)\n",
    "                i += size\n",
    "            else:\n",
    "                self.state[key] = state_vector[i]\n",
    "                i += 1\n",
    "\n",
    "        \n",
    "    def get_state(self):\n",
    "        #if we keep this, we should make it fully a list comprehension\n",
    "        state_vector = []\n",
    "        for item in [self.state[key] for key in self._stocknames]:\n",
    "            if isinstance(item, np.ndarray):\n",
    "                state_vector += list(item.flatten())\n",
    "            else:\n",
    "                state_vector += list(item)\n",
    "        return state_vector\n",
    "    \n",
    "    \n",
    "    ######### model specific components (that go in the model file)\n",
    "    \n",
    "    def stock(self):\n",
    "        return self.state['stock']\n",
    "    \n",
    "    def stock_init(self):\n",
    "        return np.array([[1,1],[1,1],[1,1]])\n",
    "    \n",
    "    def dstock_dt(self):\n",
    "        return self.flow()\n",
    "    \n",
    "    def constant(self):\n",
    "        return np.array([[1,2],[3,4],[5,6]])\n",
    "    \n",
    "    def constant2(self):\n",
    "        return 6\n",
    "    \n",
    "    def flow(self):\n",
    "        return self.constant() * self.stock()\n",
    "    \n",
    "    def initial_time(self):\n",
    "        return 0"
   ]
  },
  {
   "cell_type": "code",
   "execution_count": 35,
   "metadata": {
    "collapsed": true
   },
   "outputs": [],
   "source": [
    "a = fMinModel()"
   ]
  },
  {
   "cell_type": "code",
   "execution_count": 36,
   "metadata": {
    "collapsed": false
   },
   "outputs": [
    {
     "name": "stdout",
     "output_type": "stream",
     "text": [
      "10 loops, best of 3: 96.1 ms per loop\n"
     ]
    }
   ],
   "source": [
    "%%timeit\n",
    "a.reset_state()\n",
    "odeint(a.d_dt, a.get_state(), range(100))"
   ]
  },
  {
   "cell_type": "markdown",
   "metadata": {},
   "source": [
    "# Option 5 \n"
   ]
  },
  {
   "cell_type": "code",
   "execution_count": 65,
   "metadata": {
    "collapsed": true
   },
   "outputs": [],
   "source": [
    "class eMinModel(object):\n",
    "    def __init__(self):\n",
    "        self._stocknames = [name[:-5] for name in dir(self) if name[-5:] == '_init']\n",
    "        self._stocknames.sort()\n",
    "        self._dfuncs = {name: getattr(self, 'd%s_dt' % name) for name in self._stocknames}\n",
    "        self.state = dict(zip(self._stocknames, [None]*len(self._stocknames)))\n",
    "        self.reset_state()\n",
    "        self.functions = functions.Functions(self)\n",
    "\n",
    "    def reset_state(self):\n",
    "        self.t = self.initial_time() #set the initial time\n",
    "        retry_flag = False\n",
    "        for key in self.state.keys():\n",
    "            try:\n",
    "                self.state[key] = eval('self.'+key+'_init()') #set the initial state\n",
    "            except TypeError:\n",
    "                retry_flag = True\n",
    "        if retry_flag:\n",
    "            self.reset_state() #potential for infinite loop!\n",
    "    \n",
    "    def step(self, dt):\n",
    "        newstate = {}\n",
    "        self.state = {key:self._dfuncs[key]() * dt + self.state[key] for key in self._stocknames}\n",
    "        self.t = self.t+dt\n",
    "        return self.state\n",
    "        \n",
    "    def integrate(self, timesteps):\n",
    "        outputs = range(len(timesteps))\n",
    "        return [self.step(t2-self.t) for t2 in timesteps]\n",
    "#         for i, t2 in enumerate(timesteps):\n",
    "#             outputs[i] = self.step(t2-self.t)\n",
    "#         return outputs\n",
    "    \n",
    "    ######### model specific components (that go in the model file)\n",
    "    \n",
    "    def stock(self):\n",
    "        return self.state['stock']\n",
    "    \n",
    "    def stock_init(self):\n",
    "        return np.array([[1,1],[1,1],[1,1]])\n",
    "    \n",
    "    def dstock_dt(self):\n",
    "        return self.flow()\n",
    "    \n",
    "    def constant(self):\n",
    "        return np.array([[1,2],[3,4],[5,6]])\n",
    "    \n",
    "    def constant2(self):\n",
    "        return 6\n",
    "    \n",
    "    def flow(self):\n",
    "        return self.constant() * self.stock()\n",
    "    \n",
    "    def initial_time(self):\n",
    "        return 0"
   ]
  },
  {
   "cell_type": "code",
   "execution_count": 66,
   "metadata": {
    "collapsed": false
   },
   "outputs": [],
   "source": [
    "a = eMinModel()"
   ]
  },
  {
   "cell_type": "code",
   "execution_count": 67,
   "metadata": {
    "collapsed": false
   },
   "outputs": [
    {
     "data": {
      "text/plain": [
       "{'stock': array([[1, 1],\n",
       "        [1, 1],\n",
       "        [1, 1]])}"
      ]
     },
     "execution_count": 67,
     "metadata": {},
     "output_type": "execute_result"
    }
   ],
   "source": [
    "a.state"
   ]
  },
  {
   "cell_type": "code",
   "execution_count": 71,
   "metadata": {
    "collapsed": false
   },
   "outputs": [
    {
     "name": "stdout",
     "output_type": "stream",
     "text": [
      "1000 loops, best of 3: 797 µs per loop\n"
     ]
    }
   ],
   "source": [
    "%%timeit\n",
    "a.reset_state()\n",
    "a.integrate(np.arange(0,10,.1))"
   ]
  },
  {
   "cell_type": "code",
   "execution_count": null,
   "metadata": {
    "collapsed": true
   },
   "outputs": [],
   "source": []
  }
 ],
 "metadata": {
  "kernelspec": {
   "display_name": "Python 2",
   "language": "python",
   "name": "python2"
  },
  "language_info": {
   "codemirror_mode": {
    "name": "ipython",
    "version": 2
   },
   "file_extension": ".py",
   "mimetype": "text/x-python",
   "name": "python",
   "nbconvert_exporter": "python",
   "pygments_lexer": "ipython2",
   "version": "2.7.11"
  }
 },
 "nbformat": 4,
 "nbformat_minor": 0
}
